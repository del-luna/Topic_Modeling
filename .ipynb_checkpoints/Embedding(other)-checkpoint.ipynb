{
 "cells": [
  {
   "cell_type": "code",
   "execution_count": 1,
   "metadata": {},
   "outputs": [],
   "source": [
    "import re\n",
    "import itertools\n",
    "import numpy as np\n",
    "import pandas as pd\n",
    "import matplotlib.pyplot as plt\n",
    "from collections import Counter\n",
    "from konlpy.tag import Mecab\n",
    "from wordcloud import WordCloud\n",
    "from gensim.models.word2vec import Word2Vec\n",
    "font_path = '/home/devcat/anaconda3/envs/devcat/lib/python3.8/site-packages/matplotlib/mpl-data/fonts/ttf/NanumGothic.ttf'\n",
    "\n",
    "%matplotlib inline\n",
    "mecab = Mecab()"
   ]
  },
  {
   "cell_type": "code",
   "execution_count": 2,
   "metadata": {},
   "outputs": [],
   "source": [
    "stop_words = pd.read_csv('./stopwords.txt',encoding='utf-8')\n",
    "doc1 = pd.read_csv('/home/devcat/data/AA/smart_store.txt',sep='\\t')\n",
    "doc2 = pd.read_csv('/home/devcat/data/AA/news.txt',sep='\\t')"
   ]
  },
  {
   "cell_type": "code",
   "execution_count": 3,
   "metadata": {},
   "outputs": [],
   "source": [
    "def regex(data):\n",
    "    x = [re.sub(r'\\[[^)]*\\]','',kw).rstrip(' ').lstrip(' ').lstrip(']').lstrip('[') for kw in [data]]\n",
    "    x = ''.join(x)\n",
    "    text = re.sub('[0123456789.a.b.c.d.e.f.g.h.i.j.k.l.m.n.o.p.q.r.s.t.u.v.w.x.y.z;\\-\\_=+#/\\?:^$.,@*\\\"※~&%ㆍ!』\\\\‘|\\(\\)\\[\\]\\<\\>`\\'…》]', '', x.lower())\n",
    "    return text\n",
    "\n",
    "def process(data):\n",
    "    clean_doc = []\n",
    "    for sen in data:\n",
    "        if 'http' in sen:\n",
    "            continue\n",
    "        elif '---' in sen:\n",
    "            continue\n",
    "        else: clean_doc.append(sen)\n",
    "    return clean_doc\n",
    "\n",
    "def corr(key1, key2, image=False):\n",
    "    corr_count = {keyword : int(key1[keyword]+key2[keyword]/2) for keyword in key1.keys() if keyword in key2.keys()}\n",
    "    if image==True:\n",
    "        wordcloud = WordCloud(\n",
    "        font_path = font_path,\n",
    "        width=800,\n",
    "        height=800,\n",
    "        background_color='white'\n",
    "        )\n",
    "        wordcloud = wordcloud.generate_from_frequencies(corr_count)\n",
    "        img_array = np.array(wordcloud.to_image())\n",
    "        fig = plt.figure(figsize=(10, 10))\n",
    "        plt.imshow(img_array, interpolation=\"bilinear\")\n",
    "        plt.axis(\"off\")\n",
    "        plt.show()\n",
    "\n",
    "def keyword_run(doc, image=False):\n",
    "    doc = doc['Message'].tolist()\n",
    "    stop = stop_words['words'].tolist()\n",
    "    doc = [regex(sen) for sen in doc]\n",
    "    doc = process(doc)\n",
    "    keyword = [mecab.nouns(sen) for sen in doc]\n",
    "    keyword = list(itertools.chain.from_iterable(keyword))\n",
    "    keyword = [word for word in keyword if word not in stop]\n",
    "    count = Counter(keyword)\n",
    "    key_count = {n:c for n, c in count.most_common(150) if len(n)>=2}\n",
    "    if image == True:\n",
    "        wordcloud = WordCloud(\n",
    "        font_path = font_path,\n",
    "        width=800,\n",
    "        height=800,\n",
    "        background_color='white'\n",
    "        )\n",
    "        wordcloud = wordcloud.generate_from_frequencies(key_count)\n",
    "        img_array = np.array(wordcloud.to_image())\n",
    "        fig = plt.figure(figsize=(10, 10))\n",
    "        plt.imshow(img_array, interpolation=\"bilinear\")\n",
    "        plt.axis(\"off\")\n",
    "        plt.show()\n",
    "    \n",
    "    return key_count \n",
    "\n",
    "def embedding_run(doc):\n",
    "    doc = doc['Message'].tolist()\n",
    "    stop = stop_words['words'].tolist()\n",
    "    clean_doc = process(doc)\n",
    "    clean_doc = [regex(sen) for sen in clean_doc]\n",
    "    keyword = [mecab.nouns(sen) for sen in clean_doc]\n",
    "    keyword = [word for word in keyword if word not in stop]\n",
    "    results = []\n",
    "    for idx, sen in enumerate(keyword):\n",
    "        results.append([])\n",
    "        for word in sen:\n",
    "            if len(word)>=2:results[idx].append(word)\n",
    "    results = [sen for sen in results if len(sen)!=0]\n",
    "    \n",
    "    return results"
   ]
  },
  {
   "cell_type": "code",
   "execution_count": 4,
   "metadata": {},
   "outputs": [],
   "source": [
    "doc1_results = embedding_run(doc1)\n",
    "doc1_keyword = keyword_run(doc1)\n",
    "doc2_results = embedding_run(doc2)\n",
    "doc2_keyword = keyword_run(doc2)\n",
    "\n",
    "data = doc1_results+doc2_results"
   ]
  },
  {
   "cell_type": "code",
   "execution_count": 13,
   "metadata": {
    "scrolled": true
   },
   "outputs": [
    {
     "name": "stdout",
     "output_type": "stream",
     "text": [
      "CPU times: user 427 ms, sys: 8.4 ms, total: 435 ms\n",
      "Wall time: 350 ms\n"
     ]
    }
   ],
   "source": [
    "%%time\n",
    "model = Word2Vec(data)"
   ]
  },
  {
   "cell_type": "code",
   "execution_count": 15,
   "metadata": {},
   "outputs": [],
   "source": [
    "keylist=list(itertools.chain.from_iterable(doc1_results))"
   ]
  },
  {
   "cell_type": "code",
   "execution_count": null,
   "metadata": {},
   "outputs": [],
   "source": []
  }
 ],
 "metadata": {
  "kernelspec": {
   "display_name": "Python 3",
   "language": "python",
   "name": "python3"
  },
  "language_info": {
   "codemirror_mode": {
    "name": "ipython",
    "version": 3
   },
   "file_extension": ".py",
   "mimetype": "text/x-python",
   "name": "python",
   "nbconvert_exporter": "python",
   "pygments_lexer": "ipython3",
   "version": "3.8.2"
  }
 },
 "nbformat": 4,
 "nbformat_minor": 4
}
