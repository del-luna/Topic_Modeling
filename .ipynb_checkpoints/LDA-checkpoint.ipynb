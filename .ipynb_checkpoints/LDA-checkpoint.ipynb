{
 "cells": [
  {
   "cell_type": "code",
   "execution_count": 1,
   "metadata": {},
   "outputs": [],
   "source": [
    "import itertools\n",
    "import numpy as np\n",
    "import pandas as pd\n",
    "import matplotlib.pyplot as plt\n",
    "from collections import Counter\n",
    "from konlpy.tag import Mecab\n",
    "from gensim import corpora, models\n",
    "\n",
    "%matplotlib inline\n",
    "mecab = Mecab()\n",
    "from wordcloud import WordCloud\n",
    "font_path = '/home/devcat/anaconda3/envs/devcat/lib/python3.8/site-packages/matplotlib/mpl-data/fonts/ttf/NanumGothic.ttf'"
   ]
  },
  {
   "cell_type": "code",
   "execution_count": 2,
   "metadata": {},
   "outputs": [],
   "source": [
    "doc1 = pd.read_csv('/home/devcat/data/AA/kaggle_chat.csv', encoding='utf-8')\n",
    "doc2 = pd.read_csv('/home/devcat/data/AA/python_chat.csv', encoding='utf-8')\n",
    "doc3 = pd.read_csv('/home/devcat/data/AA/torch_chat.csv', \n",
    "encoding='utf-8')"
   ]
  },
  {
   "cell_type": "code",
   "execution_count": 3,
   "metadata": {},
   "outputs": [],
   "source": [
    "def process(df):\n",
    "    doc = df['Message'].tolist()\n",
    "    clean_doc = []\n",
    "    for sen in doc:\n",
    "        if 'chatroom' in sen:\n",
    "            continue\n",
    "        elif 'Photo' in sen:\n",
    "            continue\n",
    "        elif 'this' in sen:\n",
    "            continue\n",
    "        else:clean_doc.append(sen)\n",
    "\n",
    "    return clean_doc\n",
    "\n",
    "def regex(readData):\n",
    "    text = re.sub('[0123456789.a.b.c.d.e.f.g.h.i.j.k.l.m.n.o.p.q.r.s.t.u.v.w.x.y.z;\\-\\_=+#/\\?:^$.,@*\\\"※~&%ㆍ!』\\\\‘|\\(\\)\\[\\]\\<\\>`\\'…》]', '', readData)\n",
    " \n",
    "    return text\n",
    "\n",
    "def reduce(document):\n",
    "    keyword = [mecab.nouns(sen) for sen in document]\n",
    "    keyword = list(itertools.chain.from_iterable(keyword))\n",
    "    keyword = [word for word in keyword if len(word)>=2]\n",
    "    return keyword"
   ]
  },
  {
   "cell_type": "code",
   "execution_count": 4,
   "metadata": {},
   "outputs": [],
   "source": [
    "docs = [doc1,doc2,doc3]\n",
    "keywords = []\n",
    "for document in docs:\n",
    "    clean = process(document)\n",
    "    keyword = reduce(clean)\n",
    "    keywords.append(keyword)"
   ]
  },
  {
   "cell_type": "code",
   "execution_count": 5,
   "metadata": {},
   "outputs": [],
   "source": [
    "dictionary = corpora.Dictionary([keywords[0]])\n",
    "dictionary.add_documents([keywords[1],keywords[2]])"
   ]
  },
  {
   "cell_type": "code",
   "execution_count": 6,
   "metadata": {},
   "outputs": [],
   "source": [
    "train = keywords[0]+keywords[1]+keywords[2]\n",
    "corpus = [dictionary.doc2bow([text]) for text in train]\n",
    "ldamodel = models.ldamodel.LdaModel(corpus, num_topics=10, id2word = dictionary, passes=20)"
   ]
  },
  {
   "cell_type": "code",
   "execution_count": 7,
   "metadata": {},
   "outputs": [
    {
     "data": {
      "text/plain": [
       "[(0, '0.229*\"파이썬\" + 0.117*\"질문\" + 0.094*\"파일\" + 0.048*\"학습\" + 0.043*\"모듈\"'),\n",
       " (1, '0.198*\"감사\" + 0.132*\"코드\" + 0.070*\"안녕\" + 0.055*\"부분\" + 0.029*\"버전\"'),\n",
       " (2, '0.141*\"모델\" + 0.102*\"건가요\" + 0.088*\"토치\" + 0.053*\"설정\" + 0.049*\"배치\"'),\n",
       " (3, '0.149*\"문제\" + 0.059*\"답변\" + 0.058*\"필요\" + 0.046*\"해결\" + 0.044*\"이유\"'),\n",
       " (4, '0.091*\"방법\" + 0.076*\"생각\" + 0.059*\"실행\" + 0.054*\"시간\" + 0.043*\"차이\"'),\n",
       " (5, '0.124*\"데이터\" + 0.120*\"사용\" + 0.061*\"이거\" + 0.048*\"출력\" + 0.044*\"이게\"'),\n",
       " (6, '0.075*\"여기\" + 0.066*\"경우\" + 0.051*\"확인\" + 0.049*\"겁니다\" + 0.049*\"환경\"'),\n",
       " (7, '0.090*\"설치\" + 0.077*\"하나\" + 0.059*\"결과\" + 0.053*\"구현\" + 0.045*\"메모리\"'),\n",
       " (8, '0.089*\"파이\" + 0.081*\"공부\" + 0.069*\"말씀\" + 0.062*\"에러\" + 0.055*\"정도\"'),\n",
       " (9, '0.133*\"함수\" + 0.080*\"오류\" + 0.054*\"입력\" + 0.037*\"작성\" + 0.030*\"블로그\"')]"
      ]
     },
     "execution_count": 7,
     "metadata": {},
     "output_type": "execute_result"
    }
   ],
   "source": [
    "topics = ldamodel.print_topics(num_words=5)\n",
    "[topic for topic in topics]"
   ]
  },
  {
   "cell_type": "code",
   "execution_count": 8,
   "metadata": {
    "tags": []
   },
   "outputs": [
    {
     "data": {
      "text/plain": [
       "'\\n각 원들은 각 토픽을 나타냄,\\n원이 가까우면 토픽간의 유사도가 가까움,\\n왼쪽 원을 클릭하면 오른쪽 차트에 그 토픽에 대한 정보가 나타남.\\n'"
      ]
     },
     "execution_count": 8,
     "metadata": {},
     "output_type": "execute_result"
    }
   ],
   "source": [
    "import pyLDAvis.gensim\n",
    "pyLDAvis.enable_notebook()\n",
    "vis = pyLDAvis.gensim.prepare(ldamodel, corpus, dictionary)\n",
    "pyLDAvis.display(vis)\n",
    "\n",
    "#각 원들은 각 토픽을 나타냄,\n",
    "#원이 가까우면 토픽간의 유사도가 가까움,\n",
    "#왼쪽 원을 클릭하면 오른쪽 차트에 그 토픽에 대한 정보가 나타남."
   ]
  },
  {
   "cell_type": "code",
   "execution_count": null,
   "metadata": {},
   "outputs": [],
   "source": []
  }
 ],
 "metadata": {
  "kernelspec": {
   "display_name": "devcat",
   "language": "python",
   "name": "devcat"
  },
  "language_info": {
   "codemirror_mode": {
    "name": "ipython",
    "version": 3
   },
   "file_extension": ".py",
   "mimetype": "text/x-python",
   "name": "python",
   "nbconvert_exporter": "python",
   "pygments_lexer": "ipython3",
   "version": "3.8.2"
  }
 },
 "nbformat": 4,
 "nbformat_minor": 2
}
